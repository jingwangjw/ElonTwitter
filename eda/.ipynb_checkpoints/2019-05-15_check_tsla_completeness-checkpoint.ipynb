{
 "cells": [
  {
   "cell_type": "code",
   "execution_count": 36,
   "metadata": {},
   "outputs": [],
   "source": [
    "import pandas as pd\n",
    "import numpy as np\n",
    "import datetime"
   ]
  },
  {
   "cell_type": "code",
   "execution_count": 53,
   "metadata": {},
   "outputs": [
    {
     "data": {
      "text/plain": [
       "((5089, 8), (2204, 7))"
      ]
     },
     "execution_count": 53,
     "metadata": {},
     "output_type": "execute_result"
    }
   ],
   "source": [
    "filename1 ='../../data/stock_price/TSLA_30m_2y.csv'\n",
    "filename2 ='../../data/stock_price/TSLA.csv'\n",
    "\n",
    "tsla_hour = pd.read_csv(filename1)\n",
    "tsla_day = pd.read_csv(filename2)\n",
    "\n",
    "tsla_hour.shape, tsla_day.shape"
   ]
  },
  {
   "cell_type": "code",
   "execution_count": 55,
   "metadata": {},
   "outputs": [],
   "source": [
    "tsla_hour[\"Datetime\"] = pd.to_datetime(tsla_hour[\"Datetime\"], utc=True)\n",
    "tsla_hour['Date'] = tsla_hour['Datetime'].dt.date\n",
    "\n",
    "tsla_day[\"Date\"] = pd.to_datetime(tsla_day[\"Date\"])\n"
   ]
  },
  {
   "cell_type": "code",
   "execution_count": 89,
   "metadata": {},
   "outputs": [
    {
     "name": "stdout",
     "output_type": "stream",
     "text": [
      "Sum of hourly volumes: 5126618, Total daily volume 5162200\n",
      "Sum of hourly volumes: 10819760, Total daily volume 10992900\n",
      "Sum of hourly volumes: 9399502, Total daily volume 9590800\n",
      "Sum of hourly volumes: 6700706, Total daily volume 9708900\n",
      "Sum of hourly volumes: 4779987, Total daily volume 8004700\n",
      "Sum of hourly volumes: 2240664, Total daily volume 4202600\n"
     ]
    },
    {
     "name": "stderr",
     "output_type": "stream",
     "text": [
      "/jet/var/python/lib/python3.6/site-packages/ipykernel_launcher.py:17: FutureWarning: Comparing Series of datetimes with 'datetime.date'.  Currently, the\n",
      "'datetime.date' is coerced to a datetime. In the future pandas will\n",
      "not coerce, and 'the values will not compare equal to the\n",
      "'datetime.date'. To retain the current behavior, convert the\n",
      "'datetime.date' to a datetime with 'pd.Timestamp'.\n"
     ]
    }
   ],
   "source": [
    "# check daily data difference\n",
    "\n",
    "\n",
    "dates = [datetime.date(2018, 7, 20),\n",
    "         datetime.date(2018, 7, 23),\n",
    "         datetime.date(2018, 7, 24),\n",
    "         datetime.date(2018, 11, 19),\n",
    "         datetime.date(2018, 11, 20),\n",
    "         datetime.date(2018, 11, 23)]\n",
    "         \n",
    "for date in dates:\n",
    "    \n",
    "    vol_hour = tsla_hour[tsla_hour['Date'] == date]['Volume'].sum()\n",
    "    vol_day = int(tsla_day[tsla_day['Date'] == date]['Volume'])\n",
    "\n",
    "    print(\"Sum of hourly volumes: {}, Total daily volume {}\".format(vol_hour, vol_day))\n"
   ]
  },
  {
   "cell_type": "code",
   "execution_count": 28,
   "metadata": {},
   "outputs": [
    {
     "data": {
      "text/plain": [
       "((112, 8), (0, 8))"
      ]
     },
     "execution_count": 28,
     "metadata": {},
     "output_type": "execute_result"
    }
   ],
   "source": [
    "# 112 rows in hourly data has 0 volume\n",
    "# none of the daily data has 0 volume\n",
    "tsla_hour[tsla_hour['Volume']==0].shape, tsla_day[tsla_day['Volume']==0].shape"
   ]
  },
  {
   "cell_type": "code",
   "execution_count": null,
   "metadata": {},
   "outputs": [],
   "source": []
  }
 ],
 "metadata": {
  "kernelspec": {
   "display_name": "Python 3",
   "language": "python",
   "name": "python3"
  },
  "language_info": {
   "codemirror_mode": {
    "name": "ipython",
    "version": 3
   },
   "file_extension": ".py",
   "mimetype": "text/x-python",
   "name": "python",
   "nbconvert_exporter": "python",
   "pygments_lexer": "ipython3",
   "version": "3.6.3"
  }
 },
 "nbformat": 4,
 "nbformat_minor": 2
}
