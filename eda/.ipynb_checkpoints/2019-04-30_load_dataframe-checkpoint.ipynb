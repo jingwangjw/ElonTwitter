{
 "cells": [
  {
   "cell_type": "code",
   "execution_count": 3,
   "metadata": {},
   "outputs": [],
   "source": [
    "import pandas as pd\n",
    "import numpy as np\n",
    "import matplotlib.pyplot as plt\n",
    "\n",
    "import pickle"
   ]
  },
  {
   "cell_type": "code",
   "execution_count": 25,
   "metadata": {},
   "outputs": [
    {
     "data": {
      "text/plain": [
       "Index(['id', 'Datetime', 'text', 'sentiment', 'subjectivity', 'retweets',\n",
       "       'favorites', 'emoji', 'isreply', 'replyto', 'origin_x', 'year', 'month',\n",
       "       'day', 'date', 'DayofWeek', 'Weekend', 'Time', 'TradingHour',\n",
       "       'DayDistance', 'Time_Difference', 'gtrend', 'origin_y', 'countComment',\n",
       "       'posCommentAmount', 'negCommentAmount', 'neuCommentAmount',\n",
       "       'posCommentSum', 'negCommentSum', 'CommentSD', 'posCommentSD',\n",
       "       'negCommentSD', 'That_hour_volume', 'That_hour_volume_perc',\n",
       "       'That_hour_residual'],\n",
       "      dtype='object')"
      ]
     },
     "execution_count": 25,
     "metadata": {},
     "output_type": "execute_result"
    }
   ],
   "source": [
    "file = open(\"../../data/features/2019_04_23_data_mod.pickle\",'rb')\n",
    "df = pickle.load(file, encoding='utf-8')\n",
    "df.columns"
   ]
  },
  {
   "cell_type": "code",
   "execution_count": 35,
   "metadata": {},
   "outputs": [
    {
     "data": {
      "text/plain": [
       "(590, 35)"
      ]
     },
     "execution_count": 35,
     "metadata": {},
     "output_type": "execute_result"
    }
   ],
   "source": [
    "df.shape"
   ]
  },
  {
   "cell_type": "code",
   "execution_count": 26,
   "metadata": {},
   "outputs": [
    {
     "data": {
      "text/html": [
       "<div>\n",
       "<style scoped>\n",
       "    .dataframe tbody tr th:only-of-type {\n",
       "        vertical-align: middle;\n",
       "    }\n",
       "\n",
       "    .dataframe tbody tr th {\n",
       "        vertical-align: top;\n",
       "    }\n",
       "\n",
       "    .dataframe thead th {\n",
       "        text-align: right;\n",
       "    }\n",
       "</style>\n",
       "<table border=\"1\" class=\"dataframe\">\n",
       "  <thead>\n",
       "    <tr style=\"text-align: right;\">\n",
       "      <th></th>\n",
       "      <th>origin_x</th>\n",
       "      <th>origin_y</th>\n",
       "    </tr>\n",
       "  </thead>\n",
       "  <tbody>\n",
       "    <tr>\n",
       "      <th>0</th>\n",
       "      <td>1.117554e+18</td>\n",
       "      <td>1117553530615648256</td>\n",
       "    </tr>\n",
       "    <tr>\n",
       "      <th>1</th>\n",
       "      <td>1.116887e+18</td>\n",
       "      <td>1116886883903078401</td>\n",
       "    </tr>\n",
       "    <tr>\n",
       "      <th>2</th>\n",
       "      <td>1.117510e+18</td>\n",
       "      <td>1117510077030834176</td>\n",
       "    </tr>\n",
       "    <tr>\n",
       "      <th>3</th>\n",
       "      <td>1.116887e+18</td>\n",
       "      <td>1116886883903078401</td>\n",
       "    </tr>\n",
       "    <tr>\n",
       "      <th>4</th>\n",
       "      <td>1.117443e+18</td>\n",
       "      <td>1117442574615183362</td>\n",
       "    </tr>\n",
       "  </tbody>\n",
       "</table>\n",
       "</div>"
      ],
      "text/plain": [
       "       origin_x             origin_y\n",
       "0  1.117554e+18  1117553530615648256\n",
       "1  1.116887e+18  1116886883903078401\n",
       "2  1.117510e+18  1117510077030834176\n",
       "3  1.116887e+18  1116886883903078401\n",
       "4  1.117443e+18  1117442574615183362"
      ]
     },
     "execution_count": 26,
     "metadata": {},
     "output_type": "execute_result"
    }
   ],
   "source": [
    "df[['origin_x','origin_y']].head()"
   ]
  },
  {
   "cell_type": "code",
   "execution_count": 34,
   "metadata": {},
   "outputs": [
    {
     "data": {
      "text/html": [
       "<div>\n",
       "<style scoped>\n",
       "    .dataframe tbody tr th:only-of-type {\n",
       "        vertical-align: middle;\n",
       "    }\n",
       "\n",
       "    .dataframe tbody tr th {\n",
       "        vertical-align: top;\n",
       "    }\n",
       "\n",
       "    .dataframe thead th {\n",
       "        text-align: right;\n",
       "    }\n",
       "</style>\n",
       "<table border=\"1\" class=\"dataframe\">\n",
       "  <thead>\n",
       "    <tr style=\"text-align: right;\">\n",
       "      <th></th>\n",
       "      <th>posCommentAmount</th>\n",
       "      <th>negCommentAmount</th>\n",
       "      <th>neuCommentAmount</th>\n",
       "      <th>posCommentSum</th>\n",
       "      <th>negCommentSum</th>\n",
       "      <th>CommentSD</th>\n",
       "      <th>posCommentSD</th>\n",
       "      <th>negCommentSD</th>\n",
       "    </tr>\n",
       "  </thead>\n",
       "  <tbody>\n",
       "    <tr>\n",
       "      <th>0</th>\n",
       "      <td>153</td>\n",
       "      <td>74</td>\n",
       "      <td>500</td>\n",
       "      <td>50.753336</td>\n",
       "      <td>-20.457826</td>\n",
       "      <td>0.211838</td>\n",
       "      <td>0.228215</td>\n",
       "      <td>0.216880</td>\n",
       "    </tr>\n",
       "    <tr>\n",
       "      <th>1</th>\n",
       "      <td>63</td>\n",
       "      <td>30</td>\n",
       "      <td>59</td>\n",
       "      <td>18.228486</td>\n",
       "      <td>-4.240006</td>\n",
       "      <td>0.237073</td>\n",
       "      <td>0.234062</td>\n",
       "      <td>0.131819</td>\n",
       "    </tr>\n",
       "    <tr>\n",
       "      <th>2</th>\n",
       "      <td>137</td>\n",
       "      <td>89</td>\n",
       "      <td>193</td>\n",
       "      <td>35.958364</td>\n",
       "      <td>-18.382850</td>\n",
       "      <td>0.228340</td>\n",
       "      <td>0.209668</td>\n",
       "      <td>0.194167</td>\n",
       "    </tr>\n",
       "    <tr>\n",
       "      <th>3</th>\n",
       "      <td>34</td>\n",
       "      <td>22</td>\n",
       "      <td>47</td>\n",
       "      <td>9.681724</td>\n",
       "      <td>-3.011236</td>\n",
       "      <td>0.212194</td>\n",
       "      <td>0.216935</td>\n",
       "      <td>0.120033</td>\n",
       "    </tr>\n",
       "    <tr>\n",
       "      <th>4</th>\n",
       "      <td>62</td>\n",
       "      <td>28</td>\n",
       "      <td>81</td>\n",
       "      <td>20.153503</td>\n",
       "      <td>-5.281033</td>\n",
       "      <td>0.252651</td>\n",
       "      <td>0.241471</td>\n",
       "      <td>0.196370</td>\n",
       "    </tr>\n",
       "  </tbody>\n",
       "</table>\n",
       "</div>"
      ],
      "text/plain": [
       "   posCommentAmount  negCommentAmount  neuCommentAmount  posCommentSum  \\\n",
       "0               153                74               500      50.753336   \n",
       "1                63                30                59      18.228486   \n",
       "2               137                89               193      35.958364   \n",
       "3                34                22                47       9.681724   \n",
       "4                62                28                81      20.153503   \n",
       "\n",
       "   negCommentSum  CommentSD  posCommentSD  negCommentSD  \n",
       "0     -20.457826   0.211838      0.228215      0.216880  \n",
       "1      -4.240006   0.237073      0.234062      0.131819  \n",
       "2     -18.382850   0.228340      0.209668      0.194167  \n",
       "3      -3.011236   0.212194      0.216935      0.120033  \n",
       "4      -5.281033   0.252651      0.241471      0.196370  "
      ]
     },
     "execution_count": 34,
     "metadata": {},
     "output_type": "execute_result"
    }
   ],
   "source": [
    "df[['posCommentAmount', 'negCommentAmount', 'neuCommentAmount',\n",
    "       'posCommentSum', 'negCommentSum', 'CommentSD', 'posCommentSD',\n",
    "       'negCommentSD']].head()"
   ]
  },
  {
   "cell_type": "code",
   "execution_count": 33,
   "metadata": {},
   "outputs": [
    {
     "data": {
      "text/plain": [
       "count     590.000000\n",
       "mean     2017.520339\n",
       "std         1.070722\n",
       "min      2015.000000\n",
       "25%      2017.000000\n",
       "50%      2018.000000\n",
       "75%      2018.000000\n",
       "max      2019.000000\n",
       "Name: Time_Difference, dtype: float64"
      ]
     },
     "execution_count": 33,
     "metadata": {},
     "output_type": "execute_result"
    }
   ],
   "source": [
    "df['Time_Difference'].describe()"
   ]
  },
  {
   "cell_type": "code",
   "execution_count": null,
   "metadata": {},
   "outputs": [],
   "source": [
    "# prepare X and Y\n",
    "\n",
    "X = df[['sentiment', 'subjectivity', 'emoji', \n",
    "        'DayofWeek', 'Weekend', 'TradingHour', 'DayDistance', \n",
    "        'gtrend', \n",
    "        'countComment', 'CommentSD', 'neuCommentAmount',\n",
    "        'posCommentAmount', 'posCommentSum', 'posCommentSD',\n",
    "        'negCommentAmount', 'negCommentSum',  'negCommentSD']]\n",
    "\n",
    "Y = df['That_hour_volume', 'That_hour_volume_perc',\n",
    "       'That_hour_residual']"
   ]
  },
  {
   "cell_type": "code",
   "execution_count": null,
   "metadata": {},
   "outputs": [],
   "source": []
  },
  {
   "cell_type": "code",
   "execution_count": null,
   "metadata": {},
   "outputs": [],
   "source": []
  }
 ],
 "metadata": {
  "kernelspec": {
   "display_name": "Python 3",
   "language": "python",
   "name": "python3"
  },
  "language_info": {
   "codemirror_mode": {
    "name": "ipython",
    "version": 3
   },
   "file_extension": ".py",
   "mimetype": "text/x-python",
   "name": "python",
   "nbconvert_exporter": "python",
   "pygments_lexer": "ipython3",
   "version": "3.6.3"
  }
 },
 "nbformat": 4,
 "nbformat_minor": 2
}
