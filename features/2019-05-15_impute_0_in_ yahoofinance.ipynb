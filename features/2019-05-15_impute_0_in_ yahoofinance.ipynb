{
 "cells": [
  {
   "cell_type": "markdown",
   "metadata": {},
   "source": [
    "## Impute empty data\n",
    "\n",
    "We found some datapoint with empty Volume.\n",
    "Luckily, we have daily data. We calculated the different between total hourly volume from each day.\n",
    "Then impute the values that made total hourly equal to daily in each empty cells"
   ]
  },
  {
   "cell_type": "code",
   "execution_count": 1,
   "metadata": {},
   "outputs": [],
   "source": [
    "import pandas as pd\n",
    "import numpy as np\n",
    "import datetime"
   ]
  },
  {
   "cell_type": "code",
   "execution_count": 2,
   "metadata": {},
   "outputs": [
    {
     "data": {
      "text/plain": [
       "((5089, 8), (2204, 7))"
      ]
     },
     "execution_count": 2,
     "metadata": {},
     "output_type": "execute_result"
    }
   ],
   "source": [
    "filename1 ='../../data/stock_price/TSLA_30m_2y.csv'\n",
    "filename2 ='../../data/stock_price/TSLA.csv'\n",
    "\n",
    "tsla_hour = pd.read_csv(filename1) # hourly data\n",
    "tsla_day = pd.read_csv(filename2) # daily data\n",
    "\n",
    "tsla_hour.shape, tsla_day.shape"
   ]
  },
  {
   "cell_type": "code",
   "execution_count": 3,
   "metadata": {},
   "outputs": [],
   "source": [
    "tsla_hour[\"Datetime\"] = pd.to_datetime(tsla_hour[\"Datetime\"], utc=True)\n",
    "tsla_hour['Date'] = tsla_hour['Datetime'].dt.date\n",
    "\n",
    "tsla_day[\"Date\"] = pd.to_datetime(tsla_day[\"Date\"])\n"
   ]
  },
  {
   "cell_type": "code",
   "execution_count": 4,
   "metadata": {},
   "outputs": [
    {
     "name": "stdout",
     "output_type": "stream",
     "text": [
      "Sum of hourly volumes: 5126618, Total daily volume 5162200\n",
      "Sum of hourly volumes: 10819760, Total daily volume 10992900\n",
      "Sum of hourly volumes: 9399502, Total daily volume 9590800\n",
      "Sum of hourly volumes: 6700706, Total daily volume 9708900\n",
      "Sum of hourly volumes: 4779987, Total daily volume 8004700\n",
      "Sum of hourly volumes: 2240664, Total daily volume 4202600\n"
     ]
    },
    {
     "name": "stderr",
     "output_type": "stream",
     "text": [
      "/jet/var/python/lib/python3.6/site-packages/ipykernel_launcher.py:13: FutureWarning: Comparing Series of datetimes with 'datetime.date'.  Currently, the\n",
      "'datetime.date' is coerced to a datetime. In the future pandas will\n",
      "not coerce, and 'the values will not compare equal to the\n",
      "'datetime.date'. To retain the current behavior, convert the\n",
      "'datetime.date' to a datetime with 'pd.Timestamp'.\n",
      "  del sys.path[0]\n"
     ]
    }
   ],
   "source": [
    "# check daily data difference\n",
    "\n",
    "dates = [datetime.date(2018, 7, 20),\n",
    "         datetime.date(2018, 7, 23),\n",
    "         datetime.date(2018, 7, 24),\n",
    "         datetime.date(2018, 11, 19),\n",
    "         datetime.date(2018, 11, 20),\n",
    "         datetime.date(2018, 11, 23)]\n",
    "         \n",
    "for date in dates:\n",
    "    \n",
    "    vol_hour = tsla_hour[tsla_hour['Date'] == date]['Volume'].sum()\n",
    "    vol_day = int(tsla_day[tsla_day['Date'] == date]['Volume'])\n",
    "\n",
    "    print(\"Sum of hourly volumes: {}, Total daily volume {}\".format(vol_hour, vol_day))\n"
   ]
  },
  {
   "cell_type": "code",
   "execution_count": 5,
   "metadata": {},
   "outputs": [
    {
     "data": {
      "text/plain": [
       "((112, 9), (0, 7))"
      ]
     },
     "execution_count": 5,
     "metadata": {},
     "output_type": "execute_result"
    }
   ],
   "source": [
    "# 112 rows in hourly data has 0 volume\n",
    "# none of the daily data has 0 volume\n",
    "tsla_hour[tsla_hour['Volume']==0].shape, tsla_day[tsla_day['Volume']==0].shape"
   ]
  },
  {
   "cell_type": "code",
   "execution_count": 113,
   "metadata": {},
   "outputs": [
    {
     "data": {
      "text/html": [
       "<div>\n",
       "<style scoped>\n",
       "    .dataframe tbody tr th:only-of-type {\n",
       "        vertical-align: middle;\n",
       "    }\n",
       "\n",
       "    .dataframe tbody tr th {\n",
       "        vertical-align: top;\n",
       "    }\n",
       "\n",
       "    .dataframe thead th {\n",
       "        text-align: right;\n",
       "    }\n",
       "</style>\n",
       "<table border=\"1\" class=\"dataframe\">\n",
       "  <thead>\n",
       "    <tr style=\"text-align: right;\">\n",
       "      <th></th>\n",
       "      <th>Datetime</th>\n",
       "      <th>Open</th>\n",
       "      <th>High</th>\n",
       "      <th>Low</th>\n",
       "      <th>Close</th>\n",
       "      <th>Volume</th>\n",
       "      <th>Dividends</th>\n",
       "      <th>Stock Splits</th>\n",
       "      <th>Date</th>\n",
       "    </tr>\n",
       "  </thead>\n",
       "  <tbody>\n",
       "    <tr>\n",
       "      <th>5087</th>\n",
       "      <td>2019-04-16 18:30:00+00:00</td>\n",
       "      <td>274.75</td>\n",
       "      <td>275.00</td>\n",
       "      <td>271.81</td>\n",
       "      <td>272.26</td>\n",
       "      <td>675595</td>\n",
       "      <td>0</td>\n",
       "      <td>0</td>\n",
       "      <td>2019-04-16</td>\n",
       "    </tr>\n",
       "    <tr>\n",
       "      <th>5088</th>\n",
       "      <td>2019-04-16 19:30:00+00:00</td>\n",
       "      <td>272.27</td>\n",
       "      <td>273.67</td>\n",
       "      <td>271.66</td>\n",
       "      <td>273.31</td>\n",
       "      <td>707819</td>\n",
       "      <td>0</td>\n",
       "      <td>0</td>\n",
       "      <td>2019-04-16</td>\n",
       "    </tr>\n",
       "  </tbody>\n",
       "</table>\n",
       "</div>"
      ],
      "text/plain": [
       "                      Datetime    Open    High     Low   Close  Volume  \\\n",
       "5087 2019-04-16 18:30:00+00:00  274.75  275.00  271.81  272.26  675595   \n",
       "5088 2019-04-16 19:30:00+00:00  272.27  273.67  271.66  273.31  707819   \n",
       "\n",
       "      Dividends  Stock Splits        Date  \n",
       "5087          0             0  2019-04-16  \n",
       "5088          0             0  2019-04-16  "
      ]
     },
     "execution_count": 113,
     "metadata": {},
     "output_type": "execute_result"
    }
   ],
   "source": [
    "tsla_hour.tail(2)\n"
   ]
  },
  {
   "cell_type": "code",
   "execution_count": 112,
   "metadata": {},
   "outputs": [
    {
     "data": {
      "text/html": [
       "<div>\n",
       "<style scoped>\n",
       "    .dataframe tbody tr th:only-of-type {\n",
       "        vertical-align: middle;\n",
       "    }\n",
       "\n",
       "    .dataframe tbody tr th {\n",
       "        vertical-align: top;\n",
       "    }\n",
       "\n",
       "    .dataframe thead th {\n",
       "        text-align: right;\n",
       "    }\n",
       "</style>\n",
       "<table border=\"1\" class=\"dataframe\">\n",
       "  <thead>\n",
       "    <tr style=\"text-align: right;\">\n",
       "      <th></th>\n",
       "      <th>Date</th>\n",
       "      <th>Open</th>\n",
       "      <th>High</th>\n",
       "      <th>Low</th>\n",
       "      <th>Close</th>\n",
       "      <th>Adj Close</th>\n",
       "      <th>Volume</th>\n",
       "    </tr>\n",
       "  </thead>\n",
       "  <tbody>\n",
       "    <tr>\n",
       "      <th>2202</th>\n",
       "      <td>2019-03-29</td>\n",
       "      <td>278.700012</td>\n",
       "      <td>280.160004</td>\n",
       "      <td>274.500000</td>\n",
       "      <td>279.859985</td>\n",
       "      <td>279.859985</td>\n",
       "      <td>5991300</td>\n",
       "    </tr>\n",
       "    <tr>\n",
       "      <th>2203</th>\n",
       "      <td>2019-04-01</td>\n",
       "      <td>282.619995</td>\n",
       "      <td>289.200012</td>\n",
       "      <td>281.279999</td>\n",
       "      <td>289.179993</td>\n",
       "      <td>289.179993</td>\n",
       "      <td>8103300</td>\n",
       "    </tr>\n",
       "  </tbody>\n",
       "</table>\n",
       "</div>"
      ],
      "text/plain": [
       "           Date        Open        High         Low       Close   Adj Close  \\\n",
       "2202 2019-03-29  278.700012  280.160004  274.500000  279.859985  279.859985   \n",
       "2203 2019-04-01  282.619995  289.200012  281.279999  289.179993  289.179993   \n",
       "\n",
       "       Volume  \n",
       "2202  5991300  \n",
       "2203  8103300  "
      ]
     },
     "execution_count": 112,
     "metadata": {},
     "output_type": "execute_result"
    }
   ],
   "source": [
    "tsla_day.tail(2)"
   ]
  },
  {
   "cell_type": "code",
   "execution_count": 141,
   "metadata": {},
   "outputs": [],
   "source": [
    "def impute(hourdat, daydat):\n",
    "    if len(hourdat)>0:\n",
    "        \n",
    "        \n",
    "        if len(hourdat) != 7:\n",
    "            print(hourdat.Date.iloc[0], len(hourdat))\n",
    "            \n",
    "# Match hourly and daily data\n",
    "        dtotal = daydat.Volume[daydat.Date == hourdat.Date.iloc[0]].iloc[0]\n",
    "        \n",
    "        htotal = sum( hourdat.Volume)\n",
    "#         print(dtotal, htotal)\n",
    "\n",
    "# calculate the different between daily data and total hourly data\n",
    "        diff = dtotal - htotal\n",
    "        icell = sum(hourdat.Volume == 0)\n",
    "        \n",
    "        hourdat.loc[hourdat.Volume > htotal,'Volume'] = 0\n",
    "        if icell > 0: \n",
    "            hourdat['Volume'] = hourdat.Volume.replace(0, diff/icell)  # impute by diff of total devide by all empty cell\n",
    "    #         print(icell, diff/icell, sum(hourdat.Volume == 0))\n",
    "    return hourdat"
   ]
  },
  {
   "cell_type": "code",
   "execution_count": null,
   "metadata": {},
   "outputs": [],
   "source": [
    "tsla_hour[tsla_hour.Date < datetime.date(2019, 4, 2)].groupby('Date')"
   ]
  },
  {
   "cell_type": "code",
   "execution_count": 1,
   "metadata": {},
   "outputs": [],
   "source": [
    "print('empty cells, before', sum(tsla_hour.Volume == 0))\n",
    "tsla_hour2 = tsla_hour[tsla_hour.Date < datetime.date(2019, 4, 2)].groupby('Date').apply(lambda x: impute(x, tsla_day))\n",
    "print('empty cells, after', sum(tsla_hour2.Volume == 0))"
   ]
  },
  {
   "cell_type": "code",
   "execution_count": 118,
   "metadata": {},
   "outputs": [
    {
     "name": "stdout",
     "output_type": "stream",
     "text": [
      "Sum of hourly volumes: 5142600.0, Total daily volume 5142600\n",
      "Sum of hourly volumes: 10819760.0, Total daily volume 10992900\n",
      "Sum of hourly volumes: 9399502.0, Total daily volume 9590800\n",
      "Sum of hourly volumes: 9708900.0, Total daily volume 9708900\n",
      "Sum of hourly volumes: 8004700.0, Total daily volume 8004700\n"
     ]
    },
    {
     "name": "stderr",
     "output_type": "stream",
     "text": [
      "/jet/var/python/lib/python3.6/site-packages/ipykernel_launcher.py:10: FutureWarning: Comparing Series of datetimes with 'datetime.date'.  Currently, the\n",
      "'datetime.date' is coerced to a datetime. In the future pandas will\n",
      "not coerce, and 'the values will not compare equal to the\n",
      "'datetime.date'. To retain the current behavior, convert the\n",
      "'datetime.date' to a datetime with 'pd.Timestamp'.\n",
      "  # Remove the CWD from sys.path while we load stuff.\n"
     ]
    }
   ],
   "source": [
    "# recheck the different\n",
    "\n",
    "dates = [datetime.date(2017, 1, 25),\n",
    "         datetime.date(2018, 7, 23),\n",
    "         datetime.date(2018, 7, 24),\n",
    "         datetime.date(2018, 11, 19),\n",
    "         datetime.date(2018, 11, 20)]\n",
    "         \n",
    "for date in dates:\n",
    "    \n",
    "    vol_hour = tsla_hour2[tsla_hour2['Date'] == date]['Volume'].sum()\n",
    "    vol_day = int(tsla_day[tsla_day['Date'] == date]['Volume'])\n",
    "\n",
    "    print(\"Sum of hourly volumes: {}, Total daily volume {}\".format(vol_hour, vol_day))\n"
   ]
  },
  {
   "cell_type": "code",
   "execution_count": 119,
   "metadata": {},
   "outputs": [],
   "source": [
    "tsla_hour2.to_csv('../../data/stock_price/TSLA_30m_2y_imputed.csv')"
   ]
  },
  {
   "cell_type": "code",
   "execution_count": 120,
   "metadata": {},
   "outputs": [
    {
     "data": {
      "text/plain": [
       "0"
      ]
     },
     "execution_count": 120,
     "metadata": {},
     "output_type": "execute_result"
    }
   ],
   "source": [
    "sum(tsla_hour2.Volume == 0)"
   ]
  },
  {
   "cell_type": "code",
   "execution_count": null,
   "metadata": {},
   "outputs": [],
   "source": []
  },
  {
   "cell_type": "code",
   "execution_count": null,
   "metadata": {},
   "outputs": [],
   "source": []
  },
  {
   "cell_type": "code",
   "execution_count": null,
   "metadata": {},
   "outputs": [],
   "source": []
  }
 ],
 "metadata": {
  "kernelspec": {
   "display_name": "Python 3",
   "language": "python",
   "name": "python3"
  },
  "language_info": {
   "codemirror_mode": {
    "name": "ipython",
    "version": 3
   },
   "file_extension": ".py",
   "mimetype": "text/x-python",
   "name": "python",
   "nbconvert_exporter": "python",
   "pygments_lexer": "ipython3",
   "version": "3.6.3"
  }
 },
 "nbformat": 4,
 "nbformat_minor": 2
}
