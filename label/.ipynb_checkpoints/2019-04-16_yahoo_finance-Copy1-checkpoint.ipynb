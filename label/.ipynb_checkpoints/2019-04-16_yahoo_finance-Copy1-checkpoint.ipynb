{
 "cells": [
  {
   "cell_type": "code",
   "execution_count": 1,
   "metadata": {},
   "outputs": [
    {
     "name": "stdout",
     "output_type": "stream",
     "text": [
      "Collecting fix_yahoo_finance\n",
      "  Downloading https://files.pythonhosted.org/packages/19/3b/64138035ccdbb04bfc6528a7a9674ad9ea4321d2148e301a7a7321724739/fix-yahoo-finance-0.1.29.tar.gz\n",
      "Requirement already satisfied, skipping upgrade: pandas in /jet/lib/python3.6/site-packages (from fix_yahoo_finance) (0.24.2)\n",
      "Requirement already satisfied, skipping upgrade: numpy in /jet/lib/python3.6/site-packages (from fix_yahoo_finance) (1.16.2)\n",
      "Requirement already satisfied, skipping upgrade: requests in /jet/lib/python3.6/site-packages (from fix_yahoo_finance) (2.21.0)\n",
      "Collecting multitasking (from fix_yahoo_finance)\n",
      "  Downloading https://files.pythonhosted.org/packages/ac/1a/0750416c5e3683d170757e423f097fdf78ceb9ccdc65658b24341664e53e/multitasking-0.0.7.tar.gz\n",
      "Requirement already satisfied, skipping upgrade: pytz>=2011k in /jet/lib/python3.6/site-packages (from pandas->fix_yahoo_finance) (2018.9)\n",
      "Requirement already satisfied, skipping upgrade: python-dateutil>=2.5.0 in /jet/lib/python3.6/site-packages (from pandas->fix_yahoo_finance) (2.6.0)\n",
      "Requirement already satisfied, skipping upgrade: certifi>=2017.4.17 in /jet/lib/python3.6/site-packages (from requests->fix_yahoo_finance) (2019.3.9)\n",
      "Requirement already satisfied, skipping upgrade: chardet<3.1.0,>=3.0.2 in /jet/lib/python3.6/site-packages (from requests->fix_yahoo_finance) (3.0.4)\n",
      "Requirement already satisfied, skipping upgrade: idna<2.9,>=2.5 in /jet/lib/python3.6/site-packages (from requests->fix_yahoo_finance) (2.8)\n",
      "Requirement already satisfied, skipping upgrade: urllib3<1.25,>=1.21.1 in /jet/lib/python3.6/site-packages (from requests->fix_yahoo_finance) (1.24.1)\n",
      "Requirement already satisfied, skipping upgrade: six>=1.5 in /jet/lib/python3.6/site-packages (from python-dateutil>=2.5.0->pandas->fix_yahoo_finance) (1.11.0)\n",
      "Building wheels for collected packages: fix-yahoo-finance, multitasking\n",
      "  Building wheel for fix-yahoo-finance (setup.py) ... \u001b[?25ldone\n",
      "\u001b[?25h  Stored in directory: /jet/.cache/pip/wheels/ed/aa/49/5bd4c6dc76f2e82c95f7ec7c950be2623b182f266964a509a3\n",
      "  Building wheel for multitasking (setup.py) ... \u001b[?25ldone\n",
      "\u001b[?25h  Stored in directory: /jet/.cache/pip/wheels/41/e4/48/af808a1c57f43f104042abdaf80fa623ab213ca0268ba4189c\n",
      "Successfully built fix-yahoo-finance multitasking\n",
      "Installing collected packages: multitasking, fix-yahoo-finance\n",
      "  Found existing installation: fix-yahoo-finance 0.1.25\n",
      "    Uninstalling fix-yahoo-finance-0.1.25:\n",
      "      Successfully uninstalled fix-yahoo-finance-0.1.25\n",
      "Successfully installed fix-yahoo-finance-0.1.29 multitasking-0.0.7\n"
     ]
    }
   ],
   "source": [
    "!pip install fix_yahoo_finance -U"
   ]
  },
  {
   "cell_type": "code",
   "execution_count": 2,
   "metadata": {},
   "outputs": [],
   "source": [
    "import fix_yahoo_finance as yf"
   ]
  },
  {
   "cell_type": "code",
   "execution_count": 9,
   "metadata": {
    "collapsed": true
   },
   "outputs": [
    {
     "data": {
      "text/plain": [
       "{'ask': 120.65,\n",
       " 'askSize': 31,\n",
       " 'averageDailyVolume10Day': 16447716,\n",
       " 'averageDailyVolume3Month': 26306087,\n",
       " 'bid': 120.65,\n",
       " 'bidSize': 22,\n",
       " 'bookValue': 11.991,\n",
       " 'currency': 'USD',\n",
       " 'dividendDate': 1560384000,\n",
       " 'earningsTimestamp': 1556136000,\n",
       " 'earningsTimestampEnd': 1556539200,\n",
       " 'earningsTimestampStart': 1556103540,\n",
       " 'epsForward': 4.99,\n",
       " 'epsTrailingTwelveMonths': 4.311,\n",
       " 'esgPopulated': False,\n",
       " 'exchange': 'NMS',\n",
       " 'exchangeDataDelayedBy': 0,\n",
       " 'exchangeTimezoneName': 'America/New_York',\n",
       " 'exchangeTimezoneShortName': 'EDT',\n",
       " 'fiftyDayAverage': 116.253334,\n",
       " 'fiftyDayAverageChange': 4.5166626,\n",
       " 'fiftyDayAverageChangePercent': 0.0388519,\n",
       " 'fiftyTwoWeekHigh': 121.65,\n",
       " 'fiftyTwoWeekHighChange': -0.8800049,\n",
       " 'fiftyTwoWeekHighChangePercent': -0.0072339075,\n",
       " 'fiftyTwoWeekLow': 90.28,\n",
       " 'fiftyTwoWeekLowChange': 30.489998,\n",
       " 'fiftyTwoWeekLowChangePercent': 0.33772704,\n",
       " 'fiftyTwoWeekRange': '90.28 - 121.65',\n",
       " 'financialCurrency': 'USD',\n",
       " 'forwardPE': 24.202406,\n",
       " 'fullExchangeName': 'NasdaqGS',\n",
       " 'gmtOffSetMilliseconds': -14400000,\n",
       " 'language': 'en-US',\n",
       " 'longName': 'Microsoft Corporation',\n",
       " 'market': 'us_market',\n",
       " 'marketCap': 926572740608,\n",
       " 'marketState': 'POSTPOST',\n",
       " 'messageBoardId': 'finmb_21835',\n",
       " 'postMarketChange': -0.35999298,\n",
       " 'postMarketChangePercent': -0.29808146,\n",
       " 'postMarketPrice': 120.41,\n",
       " 'postMarketTime': 1555459198,\n",
       " 'priceHint': 2,\n",
       " 'priceToBook': 10.07172,\n",
       " 'quoteSourceName': 'Nasdaq Real Time Price',\n",
       " 'quoteType': 'EQUITY',\n",
       " 'region': 'US',\n",
       " 'regularMarketChange': -0.2800064,\n",
       " 'regularMarketChangePercent': -0.23131466,\n",
       " 'regularMarketDayHigh': 121.65,\n",
       " 'regularMarketDayLow': 120.1,\n",
       " 'regularMarketDayRange': '120.1 - 121.65',\n",
       " 'regularMarketOpen': 121.64,\n",
       " 'regularMarketPreviousClose': 121.05,\n",
       " 'regularMarketPrice': 120.77,\n",
       " 'regularMarketTime': 1555444801,\n",
       " 'regularMarketVolume': 12315624,\n",
       " 'sharesOutstanding': 7672209920,\n",
       " 'shortName': 'Microsoft Corporation',\n",
       " 'sourceInterval': 15,\n",
       " 'symbol': 'MSFT',\n",
       " 'tradeable': True,\n",
       " 'trailingAnnualDividendRate': 1.76,\n",
       " 'trailingAnnualDividendYield': 0.014539446,\n",
       " 'trailingPE': 28.014381,\n",
       " 'twoHundredDayAverage': 109.11978,\n",
       " 'twoHundredDayAverageChange': 11.650215,\n",
       " 'twoHundredDayAverageChangePercent': 0.10676538}"
      ]
     },
     "execution_count": 9,
     "metadata": {},
     "output_type": "execute_result"
    }
   ],
   "source": [
    "msft = yf.Ticker(\"MSFT\")\n",
    "\n",
    "# get stock info\n",
    "msft.info\n",
    "\n",
    "# get historical market data\n",
    "hist = msft.history(period=\"1d\", interval = \"1m\", auto_adjust=True)\n"
   ]
  },
  {
   "cell_type": "code",
   "execution_count": 4,
   "metadata": {
    "scrolled": true
   },
   "outputs": [
    {
     "data": {
      "text/plain": [
       "{'ask': 272.93,\n",
       " 'askSize': 10,\n",
       " 'averageDailyVolume10Day': 7482700,\n",
       " 'averageDailyVolume3Month': 8767648,\n",
       " 'bid': 272.76,\n",
       " 'bidSize': 8,\n",
       " 'bookValue': 28.524,\n",
       " 'currency': 'USD',\n",
       " 'earningsTimestamp': 1556136000,\n",
       " 'earningsTimestampEnd': 1557144000,\n",
       " 'earningsTimestampStart': 1556621940,\n",
       " 'epsForward': 7.36,\n",
       " 'epsTrailingTwelveMonths': -5.724,\n",
       " 'esgPopulated': False,\n",
       " 'exchange': 'NMS',\n",
       " 'exchangeDataDelayedBy': 0,\n",
       " 'exchangeTimezoneName': 'America/New_York',\n",
       " 'exchangeTimezoneShortName': 'EDT',\n",
       " 'fiftyDayAverage': 276.1659,\n",
       " 'fiftyDayAverageChange': -2.9058838,\n",
       " 'fiftyDayAverageChangePercent': -0.01052224,\n",
       " 'fiftyTwoWeekHigh': 387.46,\n",
       " 'fiftyTwoWeekHighChange': -114.19998,\n",
       " 'fiftyTwoWeekHighChangePercent': -0.29474005,\n",
       " 'fiftyTwoWeekLow': 247.77,\n",
       " 'fiftyTwoWeekLowChange': 25.490005,\n",
       " 'fiftyTwoWeekLowChangePercent': 0.10287769,\n",
       " 'fiftyTwoWeekRange': '247.77 - 387.46',\n",
       " 'financialCurrency': 'USD',\n",
       " 'forwardPE': 37.12772,\n",
       " 'fullExchangeName': 'NasdaqGS',\n",
       " 'gmtOffSetMilliseconds': -14400000,\n",
       " 'language': 'en-US',\n",
       " 'longName': 'Tesla, Inc.',\n",
       " 'market': 'us_market',\n",
       " 'marketCap': 47467720704,\n",
       " 'marketState': 'CLOSED',\n",
       " 'messageBoardId': 'finmb_27444752',\n",
       " 'postMarketChange': -0.27999878,\n",
       " 'postMarketChangePercent': -0.10246606,\n",
       " 'postMarketPrice': 272.98,\n",
       " 'postMarketTime': 1555631941,\n",
       " 'priceHint': 2,\n",
       " 'priceToBook': 9.580003,\n",
       " 'quoteSourceName': 'Delayed Quote',\n",
       " 'quoteType': 'EQUITY',\n",
       " 'region': 'US',\n",
       " 'regularMarketChange': 2.0299988,\n",
       " 'regularMarketChangePercent': 0.7484418,\n",
       " 'regularMarketDayHigh': 274.84,\n",
       " 'regularMarketDayLow': 269.75,\n",
       " 'regularMarketDayRange': '269.75 - 274.84',\n",
       " 'regularMarketOpen': 271.23,\n",
       " 'regularMarketPreviousClose': 271.23,\n",
       " 'regularMarketPrice': 273.26,\n",
       " 'regularMarketTime': 1555617601,\n",
       " 'regularMarketVolume': 5876325,\n",
       " 'sharesOutstanding': 173708992,\n",
       " 'shortName': 'Tesla, Inc.',\n",
       " 'sourceInterval': 15,\n",
       " 'symbol': 'TSLA',\n",
       " 'tradeable': True,\n",
       " 'twoHundredDayAverage': 308.71344,\n",
       " 'twoHundredDayAverageChange': -35.45343,\n",
       " 'twoHundredDayAverageChangePercent': -0.11484252}"
      ]
     },
     "execution_count": 4,
     "metadata": {},
     "output_type": "execute_result"
    }
   ],
   "source": [
    "tsla = yf.Ticker(\"TSLA\")\n",
    "\n",
    "# get stock info\n",
    "tsla.info\n"
   ]
  },
  {
   "cell_type": "code",
   "execution_count": 5,
   "metadata": {},
   "outputs": [
    {
     "name": "stdout",
     "output_type": "stream",
     "text": [
      "max period for 1m interval is 7d, max df shape is: (2727, 7)\n"
     ]
    }
   ],
   "source": [
    "# get historical market data\n",
    "hist = tsla.history(period=\"7d\", interval = \"1m\", auto_adjust=True)\n",
    "\n",
    "print(\"max period for 1m interval is 7d, max df shape is:\", hist.shape)"
   ]
  },
  {
   "cell_type": "code",
   "execution_count": 6,
   "metadata": {},
   "outputs": [
    {
     "name": "stdout",
     "output_type": "stream",
     "text": [
      "max period for 2m interval is 60d, max df shape is: (5834, 7)\n"
     ]
    }
   ],
   "source": [
    "# get historical market data\n",
    "hist = tsla.history(period=\"60d\", interval = \"2m\", auto_adjust=True)\n",
    "\n",
    "print(\"max period for 2m interval is 60d, max df shape is:\", hist.shape)"
   ]
  },
  {
   "cell_type": "code",
   "execution_count": 7,
   "metadata": {},
   "outputs": [
    {
     "name": "stdout",
     "output_type": "stream",
     "text": [
      "max period for 5m interval is 60d, max df shape is: (4670, 7)\n"
     ]
    }
   ],
   "source": [
    "# get historical market data\n",
    "hist = tsla.history(period=\"60d\", interval = \"5m\", auto_adjust=True)\n",
    "\n",
    "print(\"max period for 5m interval is 60d, max df shape is:\", hist.shape)"
   ]
  },
  {
   "cell_type": "code",
   "execution_count": 11,
   "metadata": {},
   "outputs": [
    {
     "name": "stdout",
     "output_type": "stream",
     "text": [
      "max period for 15m interval is 60d, max df shape is: (778, 7)\n"
     ]
    }
   ],
   "source": [
    "# get historical market data\n",
    "hist = tsla.history(period=\"60d\", interval = \"15m\", auto_adjust=True)\n",
    "\n",
    "print(\"max period for 15m interval is 60d, max df shape is:\", hist.shape)"
   ]
  },
  {
   "cell_type": "code",
   "execution_count": 15,
   "metadata": {},
   "outputs": [
    {
     "name": "stdout",
     "output_type": "stream",
     "text": [
      "max period for 30m interval is 730d, max df shape is: (778, 7)\n"
     ]
    }
   ],
   "source": [
    "tsla = yf.Ticker(\"TSLA\")\n",
    "\n",
    "# get historical market data\n",
    "hist = tsla.history(period=\"60d\", interval = \"30m\", auto_adjust=True)\n",
    "\n",
    "print(\"max period for 30m interval is 730d, max df shape is:\", hist.shape)"
   ]
  },
  {
   "cell_type": "code",
   "execution_count": 16,
   "metadata": {},
   "outputs": [
    {
     "data": {
      "text/html": [
       "<div>\n",
       "<style scoped>\n",
       "    .dataframe tbody tr th:only-of-type {\n",
       "        vertical-align: middle;\n",
       "    }\n",
       "\n",
       "    .dataframe tbody tr th {\n",
       "        vertical-align: top;\n",
       "    }\n",
       "\n",
       "    .dataframe thead th {\n",
       "        text-align: right;\n",
       "    }\n",
       "</style>\n",
       "<table border=\"1\" class=\"dataframe\">\n",
       "  <thead>\n",
       "    <tr style=\"text-align: right;\">\n",
       "      <th></th>\n",
       "      <th>Open</th>\n",
       "      <th>High</th>\n",
       "      <th>Low</th>\n",
       "      <th>Close</th>\n",
       "      <th>Volume</th>\n",
       "      <th>Dividends</th>\n",
       "      <th>Stock Splits</th>\n",
       "    </tr>\n",
       "    <tr>\n",
       "      <th>Datetime</th>\n",
       "      <th></th>\n",
       "      <th></th>\n",
       "      <th></th>\n",
       "      <th></th>\n",
       "      <th></th>\n",
       "      <th></th>\n",
       "      <th></th>\n",
       "    </tr>\n",
       "  </thead>\n",
       "  <tbody>\n",
       "    <tr>\n",
       "      <th>2019-03-08 09:30:00-05:00</th>\n",
       "      <td>277.48</td>\n",
       "      <td>280.00</td>\n",
       "      <td>275.97</td>\n",
       "      <td>278.00</td>\n",
       "      <td>1063374</td>\n",
       "      <td>0</td>\n",
       "      <td>0</td>\n",
       "    </tr>\n",
       "    <tr>\n",
       "      <th>2019-03-08 09:45:00-05:00</th>\n",
       "      <td>277.93</td>\n",
       "      <td>279.20</td>\n",
       "      <td>276.34</td>\n",
       "      <td>276.80</td>\n",
       "      <td>442849</td>\n",
       "      <td>0</td>\n",
       "      <td>0</td>\n",
       "    </tr>\n",
       "    <tr>\n",
       "      <th>2019-03-08 10:00:00-05:00</th>\n",
       "      <td>276.57</td>\n",
       "      <td>277.59</td>\n",
       "      <td>276.11</td>\n",
       "      <td>277.30</td>\n",
       "      <td>287939</td>\n",
       "      <td>0</td>\n",
       "      <td>0</td>\n",
       "    </tr>\n",
       "    <tr>\n",
       "      <th>2019-03-08 10:15:00-05:00</th>\n",
       "      <td>277.28</td>\n",
       "      <td>278.09</td>\n",
       "      <td>276.60</td>\n",
       "      <td>277.73</td>\n",
       "      <td>179877</td>\n",
       "      <td>0</td>\n",
       "      <td>0</td>\n",
       "    </tr>\n",
       "    <tr>\n",
       "      <th>2019-03-08 10:30:00-05:00</th>\n",
       "      <td>277.78</td>\n",
       "      <td>279.15</td>\n",
       "      <td>277.62</td>\n",
       "      <td>278.92</td>\n",
       "      <td>341098</td>\n",
       "      <td>0</td>\n",
       "      <td>0</td>\n",
       "    </tr>\n",
       "  </tbody>\n",
       "</table>\n",
       "</div>"
      ],
      "text/plain": [
       "                             Open    High     Low   Close   Volume  Dividends  \\\n",
       "Datetime                                                                        \n",
       "2019-03-08 09:30:00-05:00  277.48  280.00  275.97  278.00  1063374          0   \n",
       "2019-03-08 09:45:00-05:00  277.93  279.20  276.34  276.80   442849          0   \n",
       "2019-03-08 10:00:00-05:00  276.57  277.59  276.11  277.30   287939          0   \n",
       "2019-03-08 10:15:00-05:00  277.28  278.09  276.60  277.73   179877          0   \n",
       "2019-03-08 10:30:00-05:00  277.78  279.15  277.62  278.92   341098          0   \n",
       "\n",
       "                           Stock Splits  \n",
       "Datetime                                 \n",
       "2019-03-08 09:30:00-05:00             0  \n",
       "2019-03-08 09:45:00-05:00             0  \n",
       "2019-03-08 10:00:00-05:00             0  \n",
       "2019-03-08 10:15:00-05:00             0  \n",
       "2019-03-08 10:30:00-05:00             0  "
      ]
     },
     "execution_count": 16,
     "metadata": {},
     "output_type": "execute_result"
    }
   ],
   "source": [
    "hist.head()"
   ]
  },
  {
   "cell_type": "code",
   "execution_count": 14,
   "metadata": {},
   "outputs": [
    {
     "name": "stdout",
     "output_type": "stream",
     "text": [
      "max period for 60m interval is 730d, max df shape is: (5089, 7)\n"
     ]
    }
   ],
   "source": [
    "# get historical market data\n",
    "hist = tsla.history(period=\"730d\", interval = \"60m\", auto_adjust=True)\n",
    "\n",
    "print(\"max period for 60m interval is 730d, max df shape is:\", hist.shape)"
   ]
  },
  {
   "cell_type": "code",
   "execution_count": 21,
   "metadata": {},
   "outputs": [
    {
     "name": "stdout",
     "output_type": "stream",
     "text": [
      "max period for 90m interval is 60d, max df shape is: (160, 7)\n"
     ]
    }
   ],
   "source": [
    "# get historical market data\n",
    "hist = tsla.history(period=\"60d\", interval = \"90m\", auto_adjust=True)\n",
    "\n",
    "print(\"max period for 90m interval is 60d, max df shape is:\", hist.shape)"
   ]
  },
  {
   "cell_type": "code",
   "execution_count": 9,
   "metadata": {},
   "outputs": [
    {
     "name": "stdout",
     "output_type": "stream",
     "text": [
      "max period for 60m interval is 730d, max df shape is: (5089, 7)\n"
     ]
    }
   ],
   "source": [
    "# get historical market data\n",
    "hist = tsla.history(period=\"730d\", interval = \"1h\", auto_adjust=True)\n",
    "\n",
    "print(\"max period for 60m interval is 730d, max df shape is:\", hist.shape)"
   ]
  },
  {
   "cell_type": "code",
   "execution_count": 10,
   "metadata": {},
   "outputs": [
    {
     "name": "stdout",
     "output_type": "stream",
     "text": [
      "max period for 60m interval is 730d, max df shape is: (2215, 7)\n"
     ]
    }
   ],
   "source": [
    "tsla = yf.Ticker(\"TSLA\")\n",
    "\n",
    "# get historical market data\n",
    "hist = tsla.history(period=\"73000d\", interval = \"1d\", auto_adjust=True)\n",
    "\n",
    "print(\"max period for 60m interval is 730d, max df shape is:\", hist.shape)"
   ]
  },
  {
   "cell_type": "code",
   "execution_count": 11,
   "metadata": {},
   "outputs": [],
   "source": [
    "intervals = [\"1m\", \"2m\", \"5m\", \"15m\", \"30m\", \"60m\", \"90m\", \"1h\", \"1d\"]\n",
    "max_periods = [\"7d\", \"60d\", \"60d\", \"60d\", \"730d\", \"730d\", \"60d\", \"730d\", \"Unlimited\"]"
   ]
  },
  {
   "cell_type": "code",
   "execution_count": 12,
   "metadata": {},
   "outputs": [],
   "source": [
    "intervals = [1, 2, 5, 15, 30, 60, 90]\n",
    "max_periods = [7, 60, 60, 60, 730, 730, 60]"
   ]
  },
  {
   "cell_type": "code",
   "execution_count": 13,
   "metadata": {},
   "outputs": [
    {
     "data": {
      "image/png": "[encoded data removed]",
      "text/plain": [
       "<Figure size 1080x432 with 1 Axes>"
      ]
     },
     "metadata": {},
     "output_type": "display_data"
    }
   ],
   "source": [
    "import matplotlib.pyplot as plt\n",
    "fig, ax = plt.subplots(figsize=(15,6))\n",
    "ax.plot(intervals, max_periods)\n",
    "ax.set_xlabel(\"Intraday interval of data\", fontsize=15)\n",
    "ax.set_ylabel(\"Max number of days we can scrap\", fontsize=15)\n",
    "plt.show();"
   ]
  },
  {
   "cell_type": "code",
   "execution_count": 90,
   "metadata": {},
   "outputs": [],
   "source": [
    "tsla = yf.Ticker(\"TSLA\")\n",
    "\n",
    "# get historical market data\n",
    "hist = tsla.history(period=\"730d\", interval = \"60m\", auto_adjust=True)\n",
    "\n",
    "hist.to_csv('../../data/stock_price/TSLA_30m_2y.csv',encoding='utf-8')"
   ]
  },
  {
   "cell_type": "code",
   "execution_count": null,
   "metadata": {},
   "outputs": [],
   "source": []
  }
 ],
 "metadata": {
  "kernelspec": {
   "display_name": "Python 3",
   "language": "python",
   "name": "python3"
  },
  "language_info": {
   "codemirror_mode": {
    "name": "ipython",
    "version": 3
   },
   "file_extension": ".py",
   "mimetype": "text/x-python",
   "name": "python",
   "nbconvert_exporter": "python",
   "pygments_lexer": "ipython3",
   "version": "3.6.3"
  }
 },
 "nbformat": 4,
 "nbformat_minor": 2
}
