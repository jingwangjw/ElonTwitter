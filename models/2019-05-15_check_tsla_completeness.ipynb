{
 "cells": [
  {
   "cell_type": "code",
   "execution_count": 97,
   "metadata": {},
   "outputs": [],
   "source": [
    "import pandas as pd\n",
    "import numpy as np\n",
    "import datetime"
   ]
  },
  {
   "cell_type": "code",
   "execution_count": 98,
   "metadata": {},
   "outputs": [
    {
     "data": {
      "text/plain": [
       "((5089, 8), (2204, 7))"
      ]
     },
     "execution_count": 98,
     "metadata": {},
     "output_type": "execute_result"
    }
   ],
   "source": [
    "filename1 ='../../data/stock_price/TSLA_30m_2y.csv'\n",
    "filename2 ='../../data/stock_price/TSLA.csv'\n",
    "\n",
    "tsla_hour = pd.read_csv(filename1)\n",
    "tsla_day = pd.read_csv(filename2)\n",
    "\n",
    "tsla_hour.shape, tsla_day.shape\n"
   ]
  },
  {
   "cell_type": "code",
   "execution_count": 99,
   "metadata": {},
   "outputs": [],
   "source": [
    "tsla_hour[\"Datetime\"] = pd.to_datetime(tsla_hour[\"Datetime\"], utc=True)\n",
    "tsla_hour['Date'] = tsla_hour['Datetime'].dt.date\n",
    "\n",
    "tsla_day[\"Date\"] = pd.to_datetime(tsla_day[\"Date\"])\n"
   ]
  },
  {
   "cell_type": "code",
   "execution_count": 100,
   "metadata": {},
   "outputs": [
    {
     "name": "stdout",
     "output_type": "stream",
     "text": [
      "Sum of hourly volumes: 5126618, Total daily volume 5162200\n",
      "Sum of hourly volumes: 10819760, Total daily volume 10992900\n",
      "Sum of hourly volumes: 9399502, Total daily volume 9590800\n",
      "Sum of hourly volumes: 6700706, Total daily volume 9708900\n",
      "Sum of hourly volumes: 4779987, Total daily volume 8004700\n",
      "Sum of hourly volumes: 2240664, Total daily volume 4202600\n"
     ]
    },
    {
     "name": "stderr",
     "output_type": "stream",
     "text": [
      "/jet/var/python/lib/python3.6/site-packages/ipykernel_launcher.py:13: FutureWarning: Comparing Series of datetimes with 'datetime.date'.  Currently, the\n",
      "'datetime.date' is coerced to a datetime. In the future pandas will\n",
      "not coerce, and 'the values will not compare equal to the\n",
      "'datetime.date'. To retain the current behavior, convert the\n",
      "'datetime.date' to a datetime with 'pd.Timestamp'.\n",
      "  del sys.path[0]\n"
     ]
    }
   ],
   "source": [
    "# check daily data difference\n",
    "\n",
    "dates = [datetime.date(2018, 7, 20),\n",
    "         datetime.date(2018, 7, 23),\n",
    "         datetime.date(2018, 7, 24),\n",
    "         datetime.date(2018, 11, 19),\n",
    "         datetime.date(2018, 11, 20),\n",
    "         datetime.date(2018, 11, 23)]\n",
    "         \n",
    "for date in dates:\n",
    "    \n",
    "    vol_hour = tsla_hour[tsla_hour['Date'] == date]['Volume'].sum()\n",
    "    vol_day = int(tsla_day[tsla_day['Date'] == date]['Volume'])\n",
    "\n",
    "    print(\"Sum of hourly volumes: {}, Total daily volume {}\".format(vol_hour, vol_day))\n"
   ]
  },
  {
   "cell_type": "code",
   "execution_count": 101,
   "metadata": {},
   "outputs": [
    {
     "data": {
      "text/plain": [
       "((112, 9), (0, 7))"
      ]
     },
     "execution_count": 101,
     "metadata": {},
     "output_type": "execute_result"
    }
   ],
   "source": [
    "# 112 rows in hourly data has 0 volume\n",
    "# none of the daily data has 0 volume\n",
    "tsla_hour[tsla_hour['Volume']==0].shape, tsla_day[tsla_day['Volume']==0].shape"
   ]
  },
  {
   "cell_type": "code",
   "execution_count": 105,
   "metadata": {},
   "outputs": [
    {
     "data": {
      "text/plain": [
       "324     2016-07-28\n",
       "826     2016-11-08\n",
       "910     2016-11-25\n",
       "914     2016-11-28\n",
       "928     2016-11-30\n",
       "949     2016-12-05\n",
       "970     2016-12-08\n",
       "984     2016-12-12\n",
       "1192    2017-01-25\n",
       "1197    2017-01-26\n",
       "1225    2017-02-01\n",
       "1248    2017-02-06\n",
       "1251    2017-02-07\n",
       "1260    2017-02-08\n",
       "1267    2017-02-09\n",
       "1276    2017-02-10\n",
       "1287    2017-02-14\n",
       "1297    2017-02-15\n",
       "1305    2017-02-16\n",
       "1319    2017-02-21\n",
       "1329    2017-02-23\n",
       "1333    2017-02-23\n",
       "1339    2017-02-24\n",
       "1350    2017-02-28\n",
       "1373    2017-03-03\n",
       "1389    2017-03-07\n",
       "1402    2017-03-09\n",
       "1413    2017-03-13\n",
       "1430    2017-03-15\n",
       "1433    2017-03-16\n",
       "           ...    \n",
       "1815    2017-06-02\n",
       "1826    2017-06-06\n",
       "1833    2017-06-07\n",
       "1846    2017-06-09\n",
       "1853    2017-06-12\n",
       "1855    2017-06-12\n",
       "1860    2017-06-13\n",
       "1868    2017-06-14\n",
       "1878    2017-06-15\n",
       "1881    2017-06-16\n",
       "1883    2017-06-16\n",
       "1895    2017-06-20\n",
       "1896    2017-06-20\n",
       "1982    2017-07-10\n",
       "2003    2017-07-13\n",
       "2664    2017-11-24\n",
       "3718    2018-07-03\n",
       "4355    2018-11-12\n",
       "4362    2018-11-13\n",
       "4369    2018-11-14\n",
       "4376    2018-11-15\n",
       "4383    2018-11-16\n",
       "4390    2018-11-19\n",
       "4397    2018-11-20\n",
       "4404    2018-11-21\n",
       "4411    2018-11-23\n",
       "4415    2018-11-26\n",
       "4422    2018-11-27\n",
       "4429    2018-11-28\n",
       "4436    2018-11-29\n",
       "Name: Date, Length: 112, dtype: object"
      ]
     },
     "execution_count": 105,
     "metadata": {},
     "output_type": "execute_result"
    }
   ],
   "source": [
    "tsla_hour[tsla_hour['Volume']==0]['Date']"
   ]
  },
  {
   "cell_type": "code",
   "execution_count": null,
   "metadata": {},
   "outputs": [],
   "source": []
  }
 ],
 "metadata": {
  "kernelspec": {
   "display_name": "Python 3",
   "language": "python",
   "name": "python3"
  },
  "language_info": {
   "codemirror_mode": {
    "name": "ipython",
    "version": 3
   },
   "file_extension": ".py",
   "mimetype": "text/x-python",
   "name": "python",
   "nbconvert_exporter": "python",
   "pygments_lexer": "ipython3",
   "version": "3.6.3"
  }
 },
 "nbformat": 4,
 "nbformat_minor": 2
}
